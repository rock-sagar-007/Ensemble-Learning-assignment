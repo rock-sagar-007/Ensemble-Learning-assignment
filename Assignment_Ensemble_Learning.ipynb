{
  "nbformat": 4,
  "nbformat_minor": 0,
  "metadata": {
    "colab": {
      "provenance": []
    },
    "kernelspec": {
      "name": "python3",
      "display_name": "Python 3"
    },
    "language_info": {
      "name": "python"
    }
  },
  "cells": [
    {
      "cell_type": "markdown",
      "source": [
        "# Theoretical question"
      ],
      "metadata": {
        "id": "b1G5-YzgG4io"
      }
    },
    {
      "cell_type": "code",
      "execution_count": null,
      "metadata": {
        "id": "HSpEbRFuGrj9"
      },
      "outputs": [],
      "source": [
        "\n",
        "\n",
        "# 1. Can we use Bagging for regression problems?\n",
        "# Solution: Yes, Bagging can be used for regression problems. When used for regression, instead of taking a majority vote (as in classification), the predictions from individual models are averaged to produce the final prediction. This is often referred to as Bagged Decision Trees for Regression.\n",
        "\n",
        "# 2. What is the difference between multiple model training and single model training?\n",
        "# Solution:\n",
        "# Single Model Training: Involves training a single machine learning model on the entire dataset. The final prediction relies solely on this one model. It's generally simpler and faster to train but might be prone to overfitting or underfitting depending on the model complexity and data characteristics.\n",
        "# Multiple Model Training (Ensemble Methods): Involves training multiple machine learning models (often of the same type, but can be different) on different subsets of data or with different weights. The predictions from these multiple models are then combined (e.g., through voting, averaging, or stacking) to produce a final prediction. This approach generally leads to improved accuracy, robustness, and reduced variance compared to single models.\n",
        "\n",
        "# 3. Explain the concept of feature randomness in Random Forest.\n",
        "# Solution: Feature randomness (or feature bagging) is a key concept in Random Forest that helps decorrelate the trees. When building each individual decision tree in a Random Forest, at each split node, instead of considering all available features, only a random subset of features is considered for finding the best split. This means that even if some features are very strong predictors, not all trees will necessarily choose them as the primary splitting feature, thus promoting diversity among the trees and reducing variance.\n",
        "\n",
        "# 4. What is OOB (Out-of-Bag) Score?\n",
        "# Solution: The Out-of-Bag (OOB) score is an estimate of the generalization error of a Bagging model (like Random Forest) without the need for a separate validation set. In Bagging, each base learner is trained on a bootstrap sample of the original data. The samples that are not included in a particular bootstrap sample are called \"out-of-bag\" samples for that specific learner. For each data point, the OOB prediction is obtained by averaging the predictions from only those trees for which that data point was OOB. The OOB score is then calculated by comparing these OOB predictions with the actual target values.\n",
        "\n",
        "# 5. How can you measure the importance of features in a Random Forest model?\n",
        "# Solution: Feature importance in a Random Forest can be measured primarily in two ways:\n",
        "# 1. Mean Decrease in Impurity (MDI) / Gini Importance: This is the most common method. For each feature, the Random Forest calculates the average reduction in impurity (e.g., Gini impurity for classification, mean squared error for regression) across all splits where that feature is used, averaged over all trees in the forest. Features that lead to larger reductions in impurity are considered more important.\n",
        "# 2. Permutation Importance: This method is model-agnostic and generally more reliable. It works by permuting (shuffling) the values of a single feature in the validation set and observing how much the model's performance (e.g., accuracy, R-squared) decreases. A larger decrease indicates that the feature is more important.\n",
        "\n",
        "# 6. Explain the working principle of a Bagging Classifier.\n",
        "# Solution: A Bagging Classifier works on the principle of \"Bootstrap Aggregating.\"\n",
        "# 1. Bootstrap Sampling: Multiple bootstrap samples (random samples with replacement) are drawn from the original training dataset. Each bootstrap sample is typically of the same size as the original dataset.\n",
        "# 2. Base Learner Training: A separate base classifier (e.g., a decision tree) is trained independently on each of these bootstrap samples.\n",
        "# 3. Aggregation (Voting): For a new unseen data point, each trained base classifier makes a prediction. For classification problems, the final prediction is determined by a majority vote among the predictions of all base classifiers.\n",
        "\n",
        "# 7. How do you evaluate a Bagging Classifier's performance?\n",
        "# Solution: The performance of a Bagging Classifier can be evaluated using standard metrics relevant to the type of problem:\n",
        "# For Classification:\n",
        "# - Accuracy\n",
        "# - Precision, Recall, F1-score\n",
        "# - ROC AUC (Receiver Operating Characteristic Area Under the Curve)\n",
        "# - Confusion Matrix\n",
        "# For Regression:\n",
        "# - Mean Squared Error (MSE)\n",
        "# - Root Mean Squared Error (RMSE)\n",
        "# - Mean Absolute Error (MAE)\n",
        "# - R-squared\n",
        "# Additionally, the Out-of-Bag (OOB) score can be used as an internal validation estimate without needing a separate test set.\n",
        "\n",
        "# 8. How does a Bagging Regressor work?\n",
        "# Solution: A Bagging Regressor works similarly to a Bagging Classifier, but for regression tasks:\n",
        "# 1. Bootstrap Sampling: Multiple bootstrap samples are drawn from the original training dataset.\n",
        "# 2. Base Learner Training: A separate base regressor (e.g., a decision tree regressor) is trained independently on each of these bootstrap samples.\n",
        "# 3. Aggregation (Averaging): For a new unseen data point, each trained base regressor makes a prediction. The final prediction for regression is obtained by averaging the predictions of all individual base regressors.\n",
        "\n",
        "# 9. What is the main advantage of ensemble techniques?\n",
        "# Solution: The main advantage of ensemble techniques is their ability to significantly improve the accuracy, stability, and robustness of machine learning models compared to individual models. They achieve this by combining the predictions of multiple diverse models, which helps to reduce variance (overfitting) and sometimes bias (underfitting), leading to better generalization performance on unseen data.\n",
        "\n",
        "# 10. What is the main challenge of ensemble methods?\n",
        "# Solution: The main challenges of ensemble methods include:\n",
        "# - Increased computational complexity: Training and predicting with multiple models can be significantly more time-consuming and resource-intensive than using a single model.\n",
        "# - Interpretability: Ensembles are often less interpretable than single models, as it can be difficult to understand the exact reasoning behind a combined prediction from many individual models.\n",
        "# - Storage requirements: Storing multiple models can require more memory.\n",
        "# - Potential for diminishing returns: While ensembles generally improve performance, there can be a point where adding more models provides only marginal gains or even makes the model unnecessarily complex.\n",
        "\n",
        "# 11. Explain the key idea behind ensemble techniques.\n",
        "# Solution: The key idea behind ensemble techniques is \"the wisdom of crowds.\" Just as a group of diverse experts can often make better decisions than any single expert, combining the predictions of multiple individual models can lead to a more accurate and robust overall prediction. This is achieved by exploiting the fact that different models (or the same model trained on different data subsets) might make different errors, and by combining their predictions, these individual errors can be averaged out or cancelled, leading to a more reliable collective prediction.\n",
        "\n",
        "# 12. What is a Random Forest Classifier?\n",
        "# Solution: A Random Forest Classifier is an ensemble learning method for classification that operates by constructing a multitude of decision trees during training and outputting the class that is the mode of the classes (majority vote) of the individual trees. It incorporates two key sources of randomness:\n",
        "# 1. Bootstrap Aggregating (Bagging): Each tree is trained on a random bootstrap sample of the training data.\n",
        "# 2. Feature Randomness: At each split in the construction of a tree, only a random subset of features is considered for finding the best split.\n",
        "\n",
        "# 13. What are the main types of ensemble techniques?\n",
        "# Solution: The main types of ensemble techniques are:\n",
        "# 1. Bagging (Bootstrap Aggregating): Examples include Bagged Decision Trees and Random Forest. It focuses on reducing variance by training multiple models independently on different bootstrap samples and then averaging their predictions (or voting for classification).\n",
        "# 2. Boosting: Examples include AdaBoost, Gradient Boosting (GBM), XGBoost, LightGBM, and CatBoost. It focuses on reducing bias by training models sequentially, where each new model tries to correct the errors of the previous models.\n",
        "# 3. Stacking (Stacked Generalization): It involves training a \"meta-learner\" or \"blender\" model to combine the predictions of several base models. The base models are trained on the original dataset, and their predictions serve as input features for the meta-learner.\n",
        "\n",
        "# 14. What is ensemble learning in machine learning?\n",
        "# Solution: Ensemble learning is a machine learning paradigm where multiple models (often called \"base learners\" or \"weak learners\") are trained and their predictions are combined to solve a particular problem. The primary goal of ensemble learning is to improve model performance (accuracy, robustness, generalization) compared to using a single model.\n",
        "\n",
        "# 15. When should we avoid using ensemble methods?\n",
        "# Solution: We might consider avoiding ensemble methods in scenarios where:\n",
        "# - Interpretability is paramount: Ensembles are generally less interpretable than single models, making them unsuitable when understanding the model's decision-making process is critical (e.g., in medical diagnosis or regulatory compliance).\n",
        "# - Computational resources are severely limited: Training and deploying ensembles can be computationally expensive and time-consuming, which might be a constraint in real-time applications or on resource-limited devices.\n",
        "# - The dataset is very small: With very small datasets, bootstrap sampling might not create sufficiently diverse subsets, and the benefits of ensembling might be negligible or even detrimental due to increased complexity.\n",
        "# - Simple models already achieve sufficient performance: If a simple single model already provides acceptable accuracy, the added complexity and computational cost of an ensemble might not be justified.\n",
        "\n",
        "# 16. How does Bagging help in reducing overfitting?\n",
        "# Solution: Bagging helps in reducing overfitting primarily by reducing the variance of the model. Here's how:\n",
        "# 1. Averaging/Voting: By averaging (regression) or majority voting (classification) the predictions of multiple individual models, the idiosyncratic errors or noise learned by individual models are averaged out. This smoothing effect reduces the impact of any single model overfitting to specific noise in its training subset.\n",
        "# 2. Diversification: Each base model is trained on a different bootstrap sample. This means each model sees a slightly different view of the data, leading to a collection of diverse models. This diversity prevents the ensemble from being overly reliant on specific patterns or noise present in the full dataset.\n",
        "# 3. Stability: The ensemble becomes more stable and less sensitive to small changes in the training data, as the errors of individual, potentially unstable, base learners are balanced out.\n",
        "\n",
        "# 17. Why is Random Forest better than a single Decision Tree?\n",
        "# Solution: Random Forest is generally better than a single Decision Tree for several reasons:\n",
        "# 1. Reduces Overfitting: Single decision trees are prone to overfitting to the training data, especially deep trees. Random Forest, by combining multiple trees and using bagging and feature randomness, significantly reduces this overfitting by lowering variance.\n",
        "# 2. Improved Accuracy: The ensemble nature of Random Forest, where predictions from multiple diverse trees are combined, leads to more accurate and robust predictions than a single tree.\n",
        "# 3. Handles High Dimensionality: The feature randomness aspect helps manage datasets with a large number of features by preventing any single feature from dominating the tree-building process.\n",
        "# 4. Robust to Noise: The averaging/voting process makes Random Forest more robust to noisy data points compared to a single decision tree.\n",
        "# 5. Implicit Feature Importance: Random Forest provides a convenient way to estimate feature importance.\n",
        "\n",
        "# 18. What is the role of bootstrap sampling in Bagging?\n",
        "# Solution: Bootstrap sampling is fundamental to Bagging and plays a crucial role in creating diversity among the base learners. Its role is:\n",
        "# 1. Creating Diverse Training Sets: By drawing samples with replacement, each bootstrap sample is slightly different from the original dataset and from other bootstrap samples. This ensures that each base learner is exposed to a unique subset of the data, leading to variations in their learned patterns.\n",
        "# 2. Decorrelating Base Models: The variation in training data for each base model helps to decorrelate their errors. If all models were trained on the same data, they would likely make similar errors. Bootstrap sampling encourages them to make different errors, which can then be averaged out or voted upon effectively.\n",
        "# 3. Basis for OOB Evaluation: Bootstrap sampling naturally provides \"out-of-bag\" samples for each base learner, which can be used for unbiased internal validation (OOB score).\n",
        "\n",
        "# 19. What are some real-world applications of ensemble techniques?\n",
        "# Solution: Ensemble techniques are widely used across various industries due to their high performance. Some real-world applications include:\n",
        "# - Healthcare: Disease diagnosis, drug discovery, medical image analysis.\n",
        "# - Finance: Fraud detection (credit card fraud, insurance fraud), stock market prediction, credit scoring.\n",
        "# - E-commerce: Recommender systems (product recommendations), customer churn prediction.\n",
        "# - Marketing: Customer segmentation, targeted advertising.\n",
        "# - Image and Speech Recognition: Object detection, facial recognition, speech transcription.\n",
        "# - Cybersecurity: Intrusion detection, spam filtering.\n",
        "# - Retail: Demand forecasting, inventory management.\n",
        "# - Weather Forecasting: Predicting weather patterns.\n",
        "\n",
        "# 20. What is the difference between Bagging and Boosting?\n",
        "# Solution: Bagging and Boosting are both ensemble techniques, but they differ significantly in their approach:\n",
        "# | Feature           | Bagging (e.g., Random Forest)                                  | Boosting (e.g., AdaBoost, XGBoost)                                 |\n",
        "# |-------------------|----------------------------------------------------------------|--------------------------------------------------------------------|\n",
        "# | *Training* | Parallel: Base learners are trained independently.             | Sequential: Base learners are trained in sequence.                 |\n",
        "# | *Data Sampling* | Each base learner trained on a bootstrap sample (with replacement).| Each base learner focuses on misclassified/high-error instances from previous learners. |\n",
        "# | *Weighting* | Each base learner has equal weight in the final prediction.    | Base learners are weighted based on their performance; data points are reweighted. |\n",
        "# | *Goal* | Reduce variance (overfitting) by averaging diverse models.      | Reduce bias and variance by iteratively correcting errors.         |\n",
        "# | *Base Learners* | Often uses complex, low-bias, high-variance models (e.g., deep trees).| Often uses simple, high-bias, low-variance models (e.g., shallow trees/stumps). |\n",
        "# | *Final Prediction*| Averaging (regression) or Majority Voting (classification). | Weighted sum (regression) or Weighted majority vote (classification). |\n",
        "# | *Examples* | Random Forest, Bagged Decision Trees                           | AdaBoost, Gradient Boosting, XGBoost, LightGBM, CatBoost          |\n"
      ]
    },
    {
      "cell_type": "markdown",
      "source": [
        "# Practical Questions"
      ],
      "metadata": {
        "id": "mm0bIIPlH_qV"
      }
    },
    {
      "cell_type": "code",
      "source": [
        "# Question 21: Train a Bagging Classifier using Decision Trees on a sample dataset and print model accuracy.\n",
        "# Solution:\n",
        "from sklearn.ensemble import BaggingClassifier\n",
        "from sklearn.tree import DecisionTreeClassifier\n",
        "from sklearn.datasets import make_classification\n",
        "from sklearn.model_selection import train_test_split\n",
        "from sklearn.metrics import accuracy_score\n",
        "\n",
        "# Generate a sample dataset\n",
        "X, y = make_classification(n_samples=1000, n_features=20, n_informative=10, n_redundant=5, random_state=42)\n",
        "X_train, X_test, y_train, y_test = train_test_split(X, y, test_size=0.3, random_state=42)\n",
        "\n",
        "# Train a Bagging Classifier with Decision Trees as base estimators\n",
        "bagging_clf = BaggingClassifier(\n",
        "    estimator=DecisionTreeClassifier(random_state=42),\n",
        "    n_estimators=10, # Number of base estimators (trees)\n",
        "    random_state=42\n",
        ")\n",
        "bagging_clf.fit(X_train, y_train)\n",
        "\n",
        "# Make predictions and print accuracy\n",
        "y_pred = bagging_clf.predict(X_test)\n",
        "accuracy = accuracy_score(y_test, y_pred)\n",
        "print(f\" Bagging Classifier Accuracy: {accuracy:.4f}\")\n"
      ],
      "metadata": {
        "colab": {
          "base_uri": "https://localhost:8080/"
        },
        "id": "Je6RU8QfIDie",
        "outputId": "0ca4a8f5-a772-4db8-c2b8-ab951ecd61bc"
      },
      "execution_count": 3,
      "outputs": [
        {
          "output_type": "stream",
          "name": "stdout",
          "text": [
            " Bagging Classifier Accuracy: 0.8700\n"
          ]
        }
      ]
    },
    {
      "cell_type": "code",
      "source": [
        "# Question 22: Train a Bagging Regressor using Decision Trees and evaluate using Mean Squared Error (MSE).\n",
        "# Solution:\n",
        "from sklearn.ensemble import BaggingRegressor\n",
        "from sklearn.tree import DecisionTreeRegressor\n",
        "from sklearn.datasets import make_regression\n",
        "from sklearn.model_selection import train_test_split\n",
        "from sklearn.metrics import mean_squared_error\n",
        "\n",
        "# Generate a sample dataset\n",
        "X, y = make_regression(n_samples=1000, n_features=10, n_informative=5, random_state=42)\n",
        "X_train, X_test, y_train, y_test = train_test_split(X, y, test_size=0.3, random_state=42)\n",
        "\n",
        "# Train a Bagging Regressor with Decision Trees as base estimators\n",
        "bagging_reg = BaggingRegressor(\n",
        "    estimator=DecisionTreeRegressor(random_state=42),\n",
        "    n_estimators=10, # Number of base estimators (trees)\n",
        "    random_state=42\n",
        ")\n",
        "bagging_reg.fit(X_train, y_train)\n",
        "\n",
        "# Make predictions and print MSE\n",
        "y_pred = bagging_reg.predict(X_test)\n",
        "mse = mean_squared_error(y_test, y_pred)\n",
        "print(f\" Bagging Regressor Mean Squared Error: {mse:.4f}\")\n"
      ],
      "metadata": {
        "colab": {
          "base_uri": "https://localhost:8080/"
        },
        "id": "NCZMimudKTwF",
        "outputId": "3edb8b1b-ca03-486c-e218-f48b34036d81"
      },
      "execution_count": 4,
      "outputs": [
        {
          "output_type": "stream",
          "name": "stdout",
          "text": [
            " Bagging Regressor Mean Squared Error: 249.6254\n"
          ]
        }
      ]
    },
    {
      "cell_type": "code",
      "source": [
        "# Question 23: Train a Random Forest Classifier on the Breast Cancer dataset and print feature importance.\n",
        "# Solution:\n",
        "from sklearn.ensemble import RandomForestClassifier\n",
        "from sklearn.datasets import load_breast_cancer\n",
        "from sklearn.model_selection import train_test_split\n",
        "import pandas as pd\n",
        "\n",
        "# Load the Breast Cancer dataset\n",
        "cancer = load_breast_cancer()\n",
        "X, y = cancer.data, cancer.target\n",
        "feature_names = cancer.feature_names\n",
        "\n",
        "X_train, X_test, y_train, y_test = train_test_split(X, y, test_size=0.3, random_state=42)\n",
        "\n",
        "# Train a Random Forest Classifier\n",
        "rf_clf = RandomForestClassifier(n_estimators=100, random_state=42)\n",
        "rf_clf.fit(X_train, y_train)\n",
        "\n",
        "# Get feature importance\n",
        "importances = rf_clf.feature_importances_\n",
        "feature_importance_df = pd.DataFrame({'feature': feature_names, 'importance': importances})\n",
        "feature_importance_df = feature_importance_df.sort_values(by='importance', ascending=False)\n",
        "\n",
        "print(\" Random Forest Classifier Feature Importances:\")\n",
        "print(feature_importance_df)\n",
        "\n"
      ],
      "metadata": {
        "colab": {
          "base_uri": "https://localhost:8080/"
        },
        "id": "J4DhFsTYKdH5",
        "outputId": "be1863ae-f996-4cda-92d1-aac3dff60a1b"
      },
      "execution_count": 5,
      "outputs": [
        {
          "output_type": "stream",
          "name": "stdout",
          "text": [
            " Random Forest Classifier Feature Importances:\n",
            "                    feature  importance\n",
            "7       mean concave points    0.141934\n",
            "27     worst concave points    0.127136\n",
            "23               worst area    0.118217\n",
            "6            mean concavity    0.080557\n",
            "20             worst radius    0.077975\n",
            "22          worst perimeter    0.074292\n",
            "2            mean perimeter    0.060092\n",
            "3                 mean area    0.053810\n",
            "26          worst concavity    0.041080\n",
            "0               mean radius    0.032312\n",
            "13               area error    0.029538\n",
            "21            worst texture    0.018786\n",
            "25        worst compactness    0.017539\n",
            "10             radius error    0.016435\n",
            "28           worst symmetry    0.012929\n",
            "12          perimeter error    0.011770\n",
            "24         worst smoothness    0.011769\n",
            "1              mean texture    0.011064\n",
            "5          mean compactness    0.009216\n",
            "19  fractal dimension error    0.007135\n",
            "29  worst fractal dimension    0.006924\n",
            "4           mean smoothness    0.006223\n",
            "14         smoothness error    0.005881\n",
            "16          concavity error    0.005816\n",
            "15        compactness error    0.004596\n",
            "18           symmetry error    0.004001\n",
            "17     concave points error    0.003382\n",
            "8             mean symmetry    0.003278\n",
            "11            texture error    0.003172\n",
            "9    mean fractal dimension    0.003140\n"
          ]
        }
      ]
    },
    {
      "cell_type": "code",
      "source": [
        "# Question 24: Train a Random Forest Regressor and compare its performance with a single Decision Tree.\n",
        "# Solution:\n",
        "from sklearn.ensemble import RandomForestRegressor\n",
        "from sklearn.tree import DecisionTreeRegressor\n",
        "from sklearn.datasets import make_regression\n",
        "from sklearn.model_selection import train_test_split\n",
        "from sklearn.metrics import mean_squared_error\n",
        "\n",
        "# Generate a sample dataset\n",
        "X, y = make_regression(n_samples=1000, n_features=10, n_informative=5, random_state=42)\n",
        "X_train, X_test, y_train, y_test = train_test_split(X, y, test_size=0.3, random_state=42)\n",
        "\n",
        "# Train a Random Forest Regressor\n",
        "rf_reg = RandomForestRegressor(n_estimators=100, random_state=42)\n",
        "rf_reg.fit(X_train, y_train)\n",
        "rf_mse = mean_squared_error(y_test, rf_reg.predict(X_test))\n",
        "print(f\"Random Forest Regressor MSE: {rf_mse:.4f}\")\n",
        "\n",
        "# Train a single Decision Tree Regressor\n",
        "dt_reg = DecisionTreeRegressor(random_state=42)\n",
        "dt_reg.fit(X_train, y_train)\n",
        "dt_mse = mean_squared_error(y_test, dt_reg.predict(X_test))\n",
        "print(f\"    Single Decision Tree Regressor MSE: {dt_mse:.4f}\")\n",
        "\n",
        "# Compare performance\n",
        "if rf_mse < dt_mse:\n",
        "    print(\"    Random Forest Regressor performs better (lower MSE).\")\n",
        "else:\n",
        "    print(\"    Single Decision Tree Regressor performs better (lower MSE) or similar.\")\n",
        "\n"
      ],
      "metadata": {
        "colab": {
          "base_uri": "https://localhost:8080/"
        },
        "id": "tXP8JIxcKk2a",
        "outputId": "9d08cb63-7b5e-417b-dee4-2451feb78259"
      },
      "execution_count": 7,
      "outputs": [
        {
          "output_type": "stream",
          "name": "stdout",
          "text": [
            "Random Forest Regressor MSE: 209.3406\n",
            "    Single Decision Tree Regressor MSE: 599.9199\n",
            "    Random Forest Regressor performs better (lower MSE).\n"
          ]
        }
      ]
    },
    {
      "cell_type": "code",
      "source": [
        "\n",
        "# Question 25: Compute the Out-of-Bag (OOB) Score for a Random Forest Classifier.\n",
        "# Solution:\n",
        "from sklearn.ensemble import RandomForestClassifier\n",
        "from sklearn.datasets import make_classification\n",
        "from sklearn.model_selection import train_test_split\n",
        "\n",
        "# Generate a sample dataset\n",
        "X, y = make_classification(n_samples=1000, n_features=20, n_informative=10, n_redundant=5, random_state=42)\n",
        "X_train, X_test, y_train, y_test = train_test_split(X, y, test_size=0.3, random_state=42)\n",
        "\n",
        "# Train a Random Forest Classifier with oob_score=True\n",
        "rf_clf_oob = RandomForestClassifier(n_estimators=100, oob_score=True, random_state=42)\n",
        "rf_clf_oob.fit(X_train, y_train)\n",
        "\n",
        "# Print the OOB score\n",
        "oob_score = rf_clf_oob.oob_score_\n",
        "print(f\"Random Forest Classifier Out-of-Bag (OOB) Score: {oob_score:.4f}\")\n"
      ],
      "metadata": {
        "colab": {
          "base_uri": "https://localhost:8080/"
        },
        "id": "JSI83D_8KphH",
        "outputId": "0132378c-7561-480d-9b69-960f210d7cf4"
      },
      "execution_count": 10,
      "outputs": [
        {
          "output_type": "stream",
          "name": "stdout",
          "text": [
            "Random Forest Classifier Out-of-Bag (OOB) Score: 0.9171\n"
          ]
        }
      ]
    },
    {
      "cell_type": "code",
      "source": [
        "# Question 26: Train a Bagging Classifier using SVM as a base estimator and print accuracy.\n",
        "# Solution:\n",
        "from sklearn.ensemble import BaggingClassifier\n",
        "from sklearn.svm import SVC # Support Vector Classifier\n",
        "from sklearn.datasets import make_classification\n",
        "from sklearn.model_selection import train_test_split\n",
        "from sklearn.metrics import accuracy_score\n",
        "\n",
        "# Generate a sample dataset\n",
        "X, y = make_classification(n_samples=500, n_features=10, n_informative=5, n_redundant=0, random_state=42)\n",
        "X_train, X_test, y_train, y_test = train_test_split(X, y, test_size=0.3, random_state=42)\n",
        "\n",
        "# Train a Bagging Classifier with SVM as base estimator\n",
        "# Note: SVM can be computationally intensive, so using a smaller dataset or fewer estimators is recommended.\n",
        "bagging_svm_clf = BaggingClassifier(\n",
        "    estimator=SVC(random_state=42), # Support Vector Machine Classifier\n",
        "    n_estimators=5, # Using fewer estimators for demonstration due to SVM's complexity\n",
        "    random_state=42,\n",
        "    n_jobs=-1 # Use all available CPU cores\n",
        ")\n",
        "bagging_svm_clf.fit(X_train, y_train)\n",
        "\n",
        "# Make predictions and print accuracy\n",
        "y_pred = bagging_svm_clf.predict(X_test)\n",
        "accuracy = accuracy_score(y_test, y_pred)\n",
        "print(f\" Bagging Classifier with SVM Accuracy: {accuracy:.4f}\")\n"
      ],
      "metadata": {
        "colab": {
          "base_uri": "https://localhost:8080/"
        },
        "id": "2h4YX4B7Ku_J",
        "outputId": "8baf4707-a5a2-4f1a-ad7e-e61499236d15"
      },
      "execution_count": 9,
      "outputs": [
        {
          "output_type": "stream",
          "name": "stdout",
          "text": [
            " Bagging Classifier with SVM Accuracy: 0.9267\n"
          ]
        }
      ]
    },
    {
      "cell_type": "code",
      "source": [
        "# Question 27: Train a Random Forest Classifier with different numbers of trees and compare accuracy.\n",
        "# Solution:\n",
        "from sklearn.ensemble import RandomForestClassifier\n",
        "from sklearn.datasets import make_classification\n",
        "from sklearn.model_selection import train_test_split\n",
        "from sklearn.metrics import accuracy_score\n",
        "\n",
        "# Generate a sample dataset\n",
        "X, y = make_classification(n_samples=1000, n_features=20, n_informative=10, n_redundant=5, random_state=42)\n",
        "X_train, X_test, y_train, y_test = train_test_split(X, y, test_size=0.3, random_state=42)\n",
        "\n",
        "n_estimators_list = [10, 50, 100, 200]\n",
        "\n",
        "print(\" Random Forest Classifier Accuracy with different numbers of trees:\")\n",
        "for n_estimators in n_estimators_list:\n",
        "    rf_clf = RandomForestClassifier(n_estimators=n_estimators, random_state=42)\n",
        "    rf_clf.fit(X_train, y_train)\n",
        "    y_pred = rf_clf.predict(X_test)\n",
        "    accuracy = accuracy_score(y_test, y_pred)\n",
        "    print(f\"    n_estimators={n_estimators}: Accuracy = {accuracy:.4f}\")\n",
        "\n"
      ],
      "metadata": {
        "colab": {
          "base_uri": "https://localhost:8080/"
        },
        "id": "VA8vXX6fK0ci",
        "outputId": "45762fb4-e48c-4549-d2a1-b4381b0de4ff"
      },
      "execution_count": 11,
      "outputs": [
        {
          "output_type": "stream",
          "name": "stdout",
          "text": [
            " Random Forest Classifier Accuracy with different numbers of trees:\n",
            "    n_estimators=10: Accuracy = 0.9067\n",
            "    n_estimators=50: Accuracy = 0.9100\n",
            "    n_estimators=100: Accuracy = 0.9167\n",
            "    n_estimators=200: Accuracy = 0.9200\n"
          ]
        }
      ]
    },
    {
      "cell_type": "code",
      "source": [
        "# Question 28: Train a Bagging Classifier using Logistic Regression as a base estimator and print AUC score.\n",
        "# Solution:\n",
        "from sklearn.ensemble import BaggingClassifier\n",
        "from sklearn.linear_model import LogisticRegression\n",
        "from sklearn.datasets import make_classification\n",
        "from sklearn.model_selection import train_test_split\n",
        "from sklearn.metrics import roc_auc_score\n",
        "\n",
        "# Generate a sample dataset\n",
        "X, y = make_classification(n_samples=1000, n_features=20, n_informative=10, n_redundant=5, random_state=42)\n",
        "X_train, X_test, y_train, y_test = train_test_split(X, y, test_size=0.3, random_state=42)\n",
        "\n",
        "# Train a Bagging Classifier with Logistic Regression as base estimator\n",
        "# Note: Logistic Regression typically needs its probability prediction to calculate AUC.\n",
        "# BaggingClassifier can aggregate probabilities if the base estimator supports it.\n",
        "bagging_lr_clf = BaggingClassifier(\n",
        "    estimator=LogisticRegression(solver='liblinear', random_state=42), # Using 'liblinear' solver for simplicity\n",
        "    n_estimators=10,\n",
        "    random_state=42,\n",
        "    n_jobs=-1\n",
        ")\n",
        "bagging_lr_clf.fit(X_train, y_train)\n",
        "\n",
        "# Get predicted probabilities for the positive class\n",
        "y_proba = bagging_lr_clf.predict_proba(X_test)[:, 1]\n",
        "auc_score = roc_auc_score(y_test, y_proba)\n",
        "print(f\" Bagging Classifier with Logistic Regression AUC Score: {auc_score:.4f}\")\n",
        "\n"
      ],
      "metadata": {
        "colab": {
          "base_uri": "https://localhost:8080/"
        },
        "id": "3vATfkcnK79W",
        "outputId": "57950d92-7ca6-416b-e46e-65709bf3cf54"
      },
      "execution_count": 12,
      "outputs": [
        {
          "output_type": "stream",
          "name": "stdout",
          "text": [
            " Bagging Classifier with Logistic Regression AUC Score: 0.9126\n"
          ]
        }
      ]
    },
    {
      "cell_type": "code",
      "source": [
        "\n",
        "# Question 29: Train a Random Forest Regressor and analyze feature importance scores.\n",
        "# Solution:\n",
        "from sklearn.ensemble import RandomForestRegressor\n",
        "from sklearn.datasets import make_regression\n",
        "from sklearn.model_selection import train_test_split\n",
        "import pandas as pd\n",
        "\n",
        "# Generate a sample dataset\n",
        "X, y = make_regression(n_samples=1000, n_features=15, n_informative=8, random_state=42)\n",
        "# Create dummy feature names for better visualization\n",
        "feature_names = [f'feature_{i}' for i in range(X.shape[1])]\n",
        "\n",
        "X_train, X_test, y_train, y_test = train_test_split(X, y, test_size=0.3, random_state=42)\n",
        "\n",
        "# Train a Random Forest Regressor\n",
        "rf_reg = RandomForestRegressor(n_estimators=100, random_state=42)\n",
        "rf_reg.fit(X_train, y_train)\n",
        "\n",
        "# Get feature importance\n",
        "importances = rf_reg.feature_importances_\n",
        "feature_importance_df = pd.DataFrame({'feature': feature_names, 'importance': importances})\n",
        "feature_importance_df = feature_importance_df.sort_values(by='importance', ascending=False)\n",
        "\n",
        "print(\" Random Forest Regressor Feature Importance Analysis:\")\n",
        "print(feature_importance_df)\n",
        "\n"
      ],
      "metadata": {
        "colab": {
          "base_uri": "https://localhost:8080/"
        },
        "id": "xmvL8-8NLALI",
        "outputId": "def1f3f3-4b2d-4130-843c-e583ba67d734"
      },
      "execution_count": 13,
      "outputs": [
        {
          "output_type": "stream",
          "name": "stdout",
          "text": [
            " Random Forest Regressor Feature Importance Analysis:\n",
            "       feature  importance\n",
            "5    feature_5    0.392335\n",
            "10  feature_10    0.334132\n",
            "7    feature_7    0.110292\n",
            "2    feature_2    0.062283\n",
            "14  feature_14    0.021206\n",
            "13  feature_13    0.011605\n",
            "9    feature_9    0.009070\n",
            "1    feature_1    0.008539\n",
            "0    feature_0    0.008407\n",
            "6    feature_6    0.008095\n",
            "11  feature_11    0.007420\n",
            "12  feature_12    0.006960\n",
            "4    feature_4    0.006861\n",
            "3    feature_3    0.006577\n",
            "8    feature_8    0.006219\n"
          ]
        }
      ]
    },
    {
      "cell_type": "code",
      "source": [
        "\n",
        "# Question 30: Train an ensemble model using both Bagging and Random Forest and compare accuracy.\n",
        "# Solution:\n",
        "from sklearn.ensemble import BaggingClassifier, RandomForestClassifier\n",
        "from sklearn.tree import DecisionTreeClassifier\n",
        "from sklearn.datasets import make_classification\n",
        "from sklearn.model_selection import train_test_split\n",
        "from sklearn.metrics import accuracy_score\n",
        "\n",
        "# Generate a sample dataset\n",
        "X, y = make_classification(n_samples=1000, n_features=20, n_informative=10, n_redundant=5, random_state=42)\n",
        "X_train, X_test, y_train, y_test = train_test_split(X, y, test_size=0.3, random_state=42)\n",
        "\n",
        "# Train a Bagging Classifier (with Decision Trees)\n",
        "bagging_clf = BaggingClassifier(\n",
        "    estimator=DecisionTreeClassifier(random_state=42),\n",
        "    n_estimators=100,\n",
        "    random_state=42,\n",
        "    n_jobs=-1\n",
        ")\n",
        "bagging_clf.fit(X_train, y_train)\n",
        "bagging_pred = bagging_clf.predict(X_test)\n",
        "bagging_accuracy = accuracy_score(y_test, bagging_pred)\n",
        "print(f\" Bagging Classifier Accuracy: {bagging_accuracy:.4f}\")\n",
        "\n",
        "# Train a Random Forest Classifier\n",
        "rf_clf = RandomForestClassifier(n_estimators=100, random_state=42, n_jobs=-1)\n",
        "rf_clf.fit(X_train, y_train)\n",
        "rf_pred = rf_clf.predict(X_test)\n",
        "rf_accuracy = accuracy_score(y_test, rf_pred)\n",
        "print(f\"    Random Forest Classifier Accuracy: {rf_accuracy:.4f}\")\n",
        "\n",
        "# Compare accuracies\n",
        "if rf_accuracy > bagging_accuracy:\n",
        "    print(\"    Random Forest generally shows slightly better performance for this dataset due to feature randomness.\")\n",
        "elif bagging_accuracy > rf_accuracy:\n",
        "    print(\"    Bagging Classifier performs slightly better for this dataset.\")\n",
        "else:\n",
        "    print(\"    Both models show similar accuracy.\")"
      ],
      "metadata": {
        "colab": {
          "base_uri": "https://localhost:8080/"
        },
        "id": "TRoCWZ4VLETH",
        "outputId": "d654ea02-ee87-47f6-ebdd-cfb7a0ee3f36"
      },
      "execution_count": 14,
      "outputs": [
        {
          "output_type": "stream",
          "name": "stdout",
          "text": [
            " Bagging Classifier Accuracy: 0.9133\n",
            "    Random Forest Classifier Accuracy: 0.9167\n",
            "    Random Forest generally shows slightly better performance for this dataset due to feature randomness.\n"
          ]
        }
      ]
    },
    {
      "cell_type": "code",
      "source": [
        "# Question 31: Train a Random Forest Classifier and tune hyperparameters using GridSearchCV.\n",
        "# Solution:\n",
        "from sklearn.ensemble import RandomForestClassifier\n",
        "from sklearn.datasets import make_classification\n",
        "from sklearn.model_selection import train_test_split, GridSearchCV\n",
        "from sklearn.metrics import accuracy_score\n",
        "\n",
        "X, y = make_classification(n_samples=500, n_features=10, n_informative=5, n_redundant=0, random_state=42)\n",
        "X_train, X_test, y_train, y_test = train_test_split(X, y, test_size=0.3, random_state=42)\n",
        "\n",
        "rf_clf = RandomForestClassifier(random_state=42)\n",
        "param_grid = {\n",
        "    'n_estimators': [50, 100],\n",
        "    'max_depth': [5, 10, None],\n",
        "    'min_samples_split': [2, 5]\n",
        "}\n",
        "\n",
        "grid_search = GridSearchCV(estimator=rf_clf, param_grid=param_grid, cv=3, n_jobs=-1, verbose=0, scoring='accuracy')\n",
        "grid_search.fit(X_train, y_train)\n",
        "\n",
        "print(f\"Best Parameters: {grid_search.best_params_}\")\n",
        "print(f\"    Best CV Accuracy: {grid_search.best_score_:.4f}\")\n",
        "y_pred = grid_search.best_estimator_.predict(X_test)\n",
        "test_accuracy = accuracy_score(y_test, y_pred)\n",
        "print(f\"    Test Accuracy: {test_accuracy:.4f}\")\n"
      ],
      "metadata": {
        "colab": {
          "base_uri": "https://localhost:8080/"
        },
        "id": "RRSUxBo-LLNR",
        "outputId": "daecc1c1-4d11-48d8-f9a2-0aa2c6abbd1a"
      },
      "execution_count": 15,
      "outputs": [
        {
          "output_type": "stream",
          "name": "stdout",
          "text": [
            "Best Parameters: {'max_depth': 5, 'min_samples_split': 2, 'n_estimators': 50}\n",
            "    Best CV Accuracy: 0.8943\n",
            "    Test Accuracy: 0.9200\n"
          ]
        }
      ]
    },
    {
      "cell_type": "code",
      "source": [
        "\n",
        "# Question 32: Train a Bagging Regressor with different numbers of base estimators and compare performance.\n",
        "# Solution:\n",
        "from sklearn.ensemble import BaggingRegressor\n",
        "from sklearn.tree import DecisionTreeRegressor\n",
        "from sklearn.datasets import make_regression\n",
        "from sklearn.model_selection import train_test_split\n",
        "from sklearn.metrics import mean_squared_error\n",
        "\n",
        "X, y = make_regression(n_samples=1000, n_features=10, n_informative=5, random_state=42)\n",
        "X_train, X_test, y_train, y_test = train_test_split(X, y, test_size=0.3, random_state=42)\n",
        "\n",
        "n_estimators_list = [10, 50, 100, 200]\n",
        "\n",
        "print(\" Bagging Regressor MSE with different n_estimators:\")\n",
        "for n_estimators in n_estimators_list:\n",
        "    bagging_reg = BaggingRegressor(\n",
        "        estimator=DecisionTreeRegressor(random_state=42),\n",
        "        n_estimators=n_estimators,\n",
        "        random_state=42\n",
        "    )\n",
        "    bagging_reg.fit(X_train, y_train)\n",
        "    y_pred = bagging_reg.predict(X_test)\n",
        "    mse = mean_squared_error(y_test, y_pred)\n",
        "    print(f\"    n_estimators={n_estimators}: MSE = {mse:.4f}\")\n"
      ],
      "metadata": {
        "colab": {
          "base_uri": "https://localhost:8080/"
        },
        "id": "eabn46iyMMX4",
        "outputId": "0a37fc30-12fd-42ef-97b0-4e0eba103882"
      },
      "execution_count": 16,
      "outputs": [
        {
          "output_type": "stream",
          "name": "stdout",
          "text": [
            " Bagging Regressor MSE with different n_estimators:\n",
            "    n_estimators=10: MSE = 249.6254\n",
            "    n_estimators=50: MSE = 218.6192\n",
            "    n_estimators=100: MSE = 211.5435\n",
            "    n_estimators=200: MSE = 208.8188\n"
          ]
        }
      ]
    },
    {
      "cell_type": "code",
      "source": [
        "\n",
        "# Question 33: Train a Random Forest Classifier and analyze misclassified samples.\n",
        "# Solution:\n",
        "from sklearn.ensemble import RandomForestClassifier\n",
        "from sklearn.datasets import make_classification\n",
        "from sklearn.model_selection import train_test_split\n",
        "from sklearn.metrics import accuracy_score\n",
        "import numpy as np\n",
        "\n",
        "X, y = make_classification(n_samples=500, n_features=10, n_informative=5, n_redundant=0, random_state=42)\n",
        "X_train, X_test, y_train, y_test = train_test_split(X, y, test_size=0.3, random_state=42)\n",
        "\n",
        "rf_clf = RandomForestClassifier(n_estimators=100, random_state=42)\n",
        "rf_clf.fit(X_train, y_train)\n",
        "y_pred = rf_clf.predict(X_test)\n",
        "\n",
        "misclassified_indices = np.where(y_pred != y_test)[0]\n",
        "accuracy = accuracy_score(y_test, y_pred)\n",
        "\n",
        "print(f\" Random Forest Classifier Accuracy: {accuracy:.4f}\")\n",
        "print(f\"    Number of misclassified samples: {len(misclassified_indices)}\")\n",
        "if len(misclassified_indices) > 0:\n",
        "    print(\"    First 5 Misclassified Samples (True vs. Predicted):\")\n",
        "    for i in range(min(5, len(misclassified_indices))):\n",
        "        print(f\"        Sample {misclassified_indices[i]}: True={y_test[misclassified_indices[i]]}, Predicted={y_pred[misclassified_indices[i]]}\")\n"
      ],
      "metadata": {
        "colab": {
          "base_uri": "https://localhost:8080/"
        },
        "id": "x0ZEgyX5MTAu",
        "outputId": "4924168b-d163-4507-cada-176c969acca4"
      },
      "execution_count": 17,
      "outputs": [
        {
          "output_type": "stream",
          "name": "stdout",
          "text": [
            " Random Forest Classifier Accuracy: 0.9333\n",
            "    Number of misclassified samples: 10\n",
            "    First 5 Misclassified Samples (True vs. Predicted):\n",
            "        Sample 34: True=1, Predicted=0\n",
            "        Sample 35: True=0, Predicted=1\n",
            "        Sample 37: True=0, Predicted=1\n",
            "        Sample 46: True=1, Predicted=0\n",
            "        Sample 77: True=1, Predicted=0\n"
          ]
        }
      ]
    },
    {
      "cell_type": "code",
      "source": [
        "\n",
        "# Question 34: Train a Bagging Classifier and compare its performance with a single Decision Tree Classifier.\n",
        "# Solution:\n",
        "from sklearn.ensemble import BaggingClassifier\n",
        "from sklearn.tree import DecisionTreeClassifier\n",
        "from sklearn.datasets import make_classification\n",
        "from sklearn.model_selection import train_test_split\n",
        "from sklearn.metrics import accuracy_score\n",
        "\n",
        "X, y = make_classification(n_samples=1000, n_features=20, n_informative=10, n_redundant=5, random_state=42)\n",
        "X_train, X_test, y_train, y_test = train_test_split(X, y, test_size=0.3, random_state=42)\n",
        "\n",
        "bagging_clf = BaggingClassifier(\n",
        "    estimator=DecisionTreeClassifier(random_state=42),\n",
        "    n_estimators=100,\n",
        "    random_state=42\n",
        ")\n",
        "bagging_clf.fit(X_train, y_train)\n",
        "bagging_accuracy = accuracy_score(y_test, bagging_clf.predict(X_test))\n",
        "print(f\"Bagging Classifier Accuracy: {bagging_accuracy:.4f}\")\n",
        "\n",
        "dt_clf = DecisionTreeClassifier(random_state=42)\n",
        "dt_clf.fit(X_train, y_train)\n",
        "dt_accuracy = accuracy_score(y_test, dt_clf.predict(X_test))\n",
        "print(f\"    Single Decision Tree Classifier Accuracy: {dt_accuracy:.4f}\")\n",
        "\n",
        "if bagging_accuracy > dt_accuracy:\n",
        "    print(\"    Bagging Classifier performs better.\")\n",
        "else:\n",
        "    print(\"    Single Decision Tree Classifier performs better or similar.\")\n"
      ],
      "metadata": {
        "colab": {
          "base_uri": "https://localhost:8080/"
        },
        "id": "LoXWF10rMX2u",
        "outputId": "6f79eb31-7170-4d67-8060-50425c487f4b"
      },
      "execution_count": 18,
      "outputs": [
        {
          "output_type": "stream",
          "name": "stdout",
          "text": [
            "Bagging Classifier Accuracy: 0.9133\n",
            "    Single Decision Tree Classifier Accuracy: 0.8167\n",
            "    Bagging Classifier performs better.\n"
          ]
        }
      ]
    },
    {
      "cell_type": "code",
      "source": [
        "# Question 35: Train a Random Forest Classifier and visualize the confusion matrix.\n",
        "# Solution:\n",
        "from sklearn.ensemble import RandomForestClassifier\n",
        "from sklearn.datasets import make_classification\n",
        "from sklearn.model_selection import train_test_split\n",
        "from sklearn.metrics import confusion_matrix, ConfusionMatrixDisplay\n",
        "import matplotlib.pyplot as plt\n",
        "\n",
        "X, y = make_classification(n_samples=500, n_features=10, n_informative=5, n_redundant=0, random_state=42)\n",
        "X_train, X_test, y_train, y_test = train_test_split(X, y, test_size=0.3, random_state=42)\n",
        "\n",
        "rf_clf = RandomForestClassifier(n_estimators=100, random_state=42)\n",
        "rf_clf.fit(X_train, y_train)\n",
        "y_pred = rf_clf.predict(X_test)\n",
        "\n",
        "cm = confusion_matrix(y_test, y_pred)\n",
        "print(\"Random Forest Classifier Confusion Matrix:\")\n",
        "print(cm)\n",
        "\n",
        "disp = ConfusionMatrixDisplay(confusion_matrix=cm, display_labels=[0, 1])\n",
        "disp.plot(cmap=plt.cm.Blues)\n",
        "plt.title(\"Random Forest Classifier Confusion Matrix\")\n",
        "plt.show()\n"
      ],
      "metadata": {
        "colab": {
          "base_uri": "https://localhost:8080/",
          "height": 526
        },
        "id": "0VTu_dZtMc14",
        "outputId": "11c5ca0e-a2bc-4323-cf59-7c41453b02e1"
      },
      "execution_count": 19,
      "outputs": [
        {
          "output_type": "stream",
          "name": "stdout",
          "text": [
            "Random Forest Classifier Confusion Matrix:\n",
            "[[67  4]\n",
            " [ 6 73]]\n"
          ]
        },
        {
          "output_type": "display_data",
          "data": {
            "text/plain": [
              "<Figure size 640x480 with 2 Axes>"
            ],
            "image/png": "[encoded data removed]"
          },
          "metadata": {}
        }
      ]
    },
    {
      "cell_type": "code",
      "source": [
        "# Question 36: Train a Stacking Classifier using Decision Trees, SVM, and Logistic Regression, and compare accuracy.\n",
        "# Solution:\n",
        "from sklearn.ensemble import StackingClassifier\n",
        "from sklearn.tree import DecisionTreeClassifier\n",
        "from sklearn.svm import SVC\n",
        "from sklearn.linear_model import LogisticRegression\n",
        "from sklearn.datasets import make_classification\n",
        "from sklearn.model_selection import train_test_split\n",
        "from sklearn.metrics import accuracy_score\n",
        "\n",
        "X, y = make_classification(n_samples=500, n_features=10, n_informative=5, n_redundant=0, random_state=42)\n",
        "X_train, X_test, y_train, y_test = train_test_split(X, y, test_size=0.3, random_state=42)\n",
        "\n",
        "estimators = [\n",
        "    ('dt', DecisionTreeClassifier(random_state=42)),\n",
        "    ('svm', SVC(probability=True, random_state=42)),\n",
        "    ('lr', LogisticRegression(solver='liblinear', random_state=42))\n",
        "]\n",
        "final_estimator = LogisticRegression(solver='liblinear', random_state=42)\n",
        "\n",
        "stacking_clf = StackingClassifier(\n",
        "    estimators=estimators,\n",
        "    final_estimator=final_estimator,\n",
        "    cv=3, # Reduced CV folds for faster execution\n",
        "    n_jobs=-1,\n",
        "    passthrough=True\n",
        ")\n",
        "stacking_clf.fit(X_train, y_train)\n",
        "\n",
        "accuracy_stacking = accuracy_score(y_test, stacking_clf.predict(X_test))\n",
        "print(f\"Stacking Classifier Accuracy: {accuracy_stacking:.4f}\")\n",
        "\n",
        "# Individual model accuracies for comparison\n",
        "dt_clf = DecisionTreeClassifier(random_state=42).fit(X_train, y_train)\n",
        "svm_clf = SVC(random_state=42).fit(X_train, y_train)\n",
        "lr_clf = LogisticRegression(solver='liblinear', random_state=42).fit(X_train, y_train)\n",
        "\n",
        "print(f\"    Individual Decision Tree Accuracy: {accuracy_score(y_test, dt_clf.predict(X_test)):.4f}\")\n",
        "print(f\"    Individual SVM Accuracy: {accuracy_score(y_test, svm_clf.predict(X_test)):.4f}\")\n",
        "print(f\"    Individual Logistic Regression Accuracy: {accuracy_score(y_test, lr_clf.predict(X_test)):.4f}\")\n"
      ],
      "metadata": {
        "colab": {
          "base_uri": "https://localhost:8080/"
        },
        "id": "5fMEoUfdMgvO",
        "outputId": "ad760c77-369e-4b09-96ed-02b0d2e06114"
      },
      "execution_count": 20,
      "outputs": [
        {
          "output_type": "stream",
          "name": "stdout",
          "text": [
            "Stacking Classifier Accuracy: 0.9067\n",
            "    Individual Decision Tree Accuracy: 0.8400\n",
            "    Individual SVM Accuracy: 0.9200\n",
            "    Individual Logistic Regression Accuracy: 0.8467\n"
          ]
        }
      ]
    },
    {
      "cell_type": "code",
      "source": [
        "\n",
        "# Question 37: Train a Random Forest Classifier and print the top 5 most important features.\n",
        "# Solution:\n",
        "from sklearn.ensemble import RandomForestClassifier\n",
        "from sklearn.datasets import load_breast_cancer\n",
        "from sklearn.model_selection import train_test_split\n",
        "import pandas as pd\n",
        "\n",
        "cancer = load_breast_cancer()\n",
        "X, y = cancer.data, cancer.target\n",
        "feature_names = cancer.feature_names\n",
        "\n",
        "X_train, X_test, y_train, y_test = train_test_split(X, y, test_size=0.3, random_state=42)\n",
        "\n",
        "rf_clf = RandomForestClassifier(n_estimators=100, random_state=42)\n",
        "rf_clf.fit(X_train, y_train)\n",
        "\n",
        "importances = rf_clf.feature_importances_\n",
        "feature_importance_df = pd.DataFrame({'feature': feature_names, 'importance': importances})\n",
        "feature_importance_df = feature_importance_df.sort_values(by='importance', ascending=False)\n",
        "\n",
        "print(\"Random Forest Classifier Top 5 Most Important Features:\")\n",
        "print(feature_importance_df.head(5))\n",
        "\n"
      ],
      "metadata": {
        "colab": {
          "base_uri": "https://localhost:8080/"
        },
        "id": "gCvsv9pOMnBX",
        "outputId": "da81ca6a-3114-4fee-9b14-24cf7fe332ac"
      },
      "execution_count": 21,
      "outputs": [
        {
          "output_type": "stream",
          "name": "stdout",
          "text": [
            "Random Forest Classifier Top 5 Most Important Features:\n",
            "                 feature  importance\n",
            "7    mean concave points    0.141934\n",
            "27  worst concave points    0.127136\n",
            "23            worst area    0.118217\n",
            "6         mean concavity    0.080557\n",
            "20          worst radius    0.077975\n"
          ]
        }
      ]
    },
    {
      "cell_type": "code",
      "source": [
        "# Question 38: Train a Bagging Classifier and evaluate performance using Precision, Recall, and F1-score.\n",
        "# Solution:\n",
        "from sklearn.ensemble import BaggingClassifier\n",
        "from sklearn.tree import DecisionTreeClassifier\n",
        "from sklearn.datasets import make_classification\n",
        "from sklearn.model_selection import train_test_split\n",
        "from sklearn.metrics import precision_score, recall_score, f1_score\n",
        "\n",
        "X, y = make_classification(n_samples=1000, n_features=20, n_informative=10, n_redundant=5, random_state=42)\n",
        "X_train, X_test, y_train, y_test = train_test_split(X, y, test_size=0.3, random_state=42)\n",
        "\n",
        "bagging_clf = BaggingClassifier(\n",
        "    estimator=DecisionTreeClassifier(random_state=42),\n",
        "    n_estimators=100,\n",
        "    random_state=42\n",
        ")\n",
        "bagging_clf.fit(X_train, y_train)\n",
        "y_pred = bagging_clf.predict(X_test)\n",
        "\n",
        "precision = precision_score(y_test, y_pred)\n",
        "recall = recall_score(y_test, y_pred)\n",
        "f1 = f1_score(y_test, y_pred)\n",
        "\n",
        "print(f\" Bagging Classifier Performance:\")\n",
        "print(f\"    Precision: {precision:.4f}\")\n",
        "print(f\"    Recall: {recall:.4f}\")\n",
        "print(f\"    F1-score: {f1:.4f}\")\n"
      ],
      "metadata": {
        "colab": {
          "base_uri": "https://localhost:8080/"
        },
        "id": "jSOmW9cvMrL2",
        "outputId": "c608c5de-9d85-4657-b1d0-4705e0681d97"
      },
      "execution_count": 22,
      "outputs": [
        {
          "output_type": "stream",
          "name": "stdout",
          "text": [
            " Bagging Classifier Performance:\n",
            "    Precision: 0.8800\n",
            "    Recall: 0.9429\n",
            "    F1-score: 0.9103\n"
          ]
        }
      ]
    },
    {
      "cell_type": "code",
      "source": [
        "# Question 39: Train a Random Forest Classifier and analyze the effect of max_depth on accuracy.\n",
        "# Solution:\n",
        "from sklearn.ensemble import RandomForestClassifier\n",
        "from sklearn.datasets import make_classification\n",
        "from sklearn.model_selection import train_test_split\n",
        "from sklearn.metrics import accuracy_score\n",
        "import matplotlib.pyplot as plt\n",
        "\n",
        "X, y = make_classification(n_samples=1000, n_features=20, n_informative=10, n_redundant=5, random_state=42)\n",
        "X_train, X_test, y_train, y_test = train_test_split(X, y, test_size=0.3, random_state=42)\n",
        "\n",
        "max_depths = [1, 5, 10, 20, None]\n",
        "accuracies = []\n",
        "\n",
        "print(\" Random Forest Accuracy vs. max_depth:\")\n",
        "for depth in max_depths:\n",
        "    rf_clf = RandomForestClassifier(n_estimators=100, max_depth=depth, random_state=42)\n",
        "    rf_clf.fit(X_train, y_train)\n",
        "    accuracy = accuracy_score(y_test, rf_clf.predict(X_test))\n",
        "    accuracies.append(accuracy)\n",
        "    print(f\"    max_depth={depth if depth is not None else 'None'}: Accuracy = {accuracy:.4f}\")\n",
        "\n",
        "plt.plot([str(d) if d is not None else 'None' for d in max_depths], accuracies, marker='o')\n",
        "plt.title('Random Forest Accuracy vs. max_depth')\n",
        "plt.xlabel('Max Depth of Trees')\n",
        "plt.ylabel('Accuracy')\n",
        "plt.grid(True)\n",
        "plt.show()\n",
        "\n"
      ],
      "metadata": {
        "colab": {
          "base_uri": "https://localhost:8080/",
          "height": 581
        },
        "id": "uCQrFEbaMvYI",
        "outputId": "dcf7703d-251d-486b-ed7e-fe6cccb5327a"
      },
      "execution_count": 23,
      "outputs": [
        {
          "output_type": "stream",
          "name": "stdout",
          "text": [
            " Random Forest Accuracy vs. max_depth:\n",
            "    max_depth=1: Accuracy = 0.7733\n",
            "    max_depth=5: Accuracy = 0.8900\n",
            "    max_depth=10: Accuracy = 0.9133\n",
            "    max_depth=20: Accuracy = 0.9167\n",
            "    max_depth=None: Accuracy = 0.9167\n"
          ]
        },
        {
          "output_type": "display_data",
          "data": {
            "text/plain": [
              "<Figure size 640x480 with 1 Axes>"
            ],
            "image/png": "[encoded data removed]"
          },
          "metadata": {}
        }
      ]
    },
    {
      "cell_type": "code",
      "source": [
        "# Question 39: Train a Random Forest Classifier and analyze the effect of max_depth on accuracy.\n",
        "# Solution:\n",
        "from sklearn.ensemble import RandomForestClassifier\n",
        "from sklearn.datasets import make_classification\n",
        "from sklearn.model_selection import train_test_split\n",
        "from sklearn.metrics import accuracy_score\n",
        "import matplotlib.pyplot as plt\n",
        "\n",
        "X, y = make_classification(n_samples=1000, n_features=20, n_informative=10, n_redundant=5, random_state=42)\n",
        "X_train, X_test, y_train, y_test = train_test_split(X, y, test_size=0.3, random_state=42)\n",
        "\n",
        "max_depths = [1, 5, 10, 20, None]\n",
        "accuracies = []\n",
        "\n",
        "print(\"Random Forest Accuracy vs. max_depth:\")\n",
        "for depth in max_depths:\n",
        "    rf_clf = RandomForestClassifier(n_estimators=100, max_depth=depth, random_state=42)\n",
        "    rf_clf.fit(X_train, y_train)\n",
        "    accuracy = accuracy_score(y_test, rf_clf.predict(X_test))\n",
        "    accuracies.append(accuracy)\n",
        "    print(f\"    max_depth={depth if depth is not None else 'None'}: Accuracy = {accuracy:.4f}\")\n",
        "\n",
        "plt.plot([str(d) if d is not None else 'None' for d in max_depths], accuracies, marker='o')\n",
        "plt.title('Random Forest Accuracy vs. max_depth')\n",
        "plt.xlabel('Max Depth of Trees')\n",
        "plt.ylabel('Accuracy')\n",
        "plt.grid(True)\n",
        "plt.show()\n",
        "\n"
      ],
      "metadata": {
        "colab": {
          "base_uri": "https://localhost:8080/",
          "height": 581
        },
        "id": "fNcY4TxfMzfv",
        "outputId": "3cb7f7d8-d01f-4c24-e8ad-aeb7690de959"
      },
      "execution_count": 24,
      "outputs": [
        {
          "output_type": "stream",
          "name": "stdout",
          "text": [
            "Random Forest Accuracy vs. max_depth:\n",
            "    max_depth=1: Accuracy = 0.7733\n",
            "    max_depth=5: Accuracy = 0.8900\n",
            "    max_depth=10: Accuracy = 0.9133\n",
            "    max_depth=20: Accuracy = 0.9167\n",
            "    max_depth=None: Accuracy = 0.9167\n"
          ]
        },
        {
          "output_type": "display_data",
          "data": {
            "text/plain": [
              "<Figure size 640x480 with 1 Axes>"
            ],
            "image/png": "[encoded data removed]"
          },
          "metadata": {}
        }
      ]
    },
    {
      "cell_type": "code",
      "source": [
        "# Question 41: Train a Random Forest Classifier and evaluate its performance using ROC-AUC Score.\n",
        "# Solution:\n",
        "from sklearn.ensemble import RandomForestClassifier\n",
        "from sklearn.datasets import make_classification\n",
        "from sklearn.model_selection import train_test_split\n",
        "from sklearn.metrics import roc_auc_score, roc_curve\n",
        "import matplotlib.pyplot as plt\n",
        "\n",
        "X, y = make_classification(n_samples=1000, n_features=20, n_informative=10, n_redundant=5, random_state=42)\n",
        "X_train, X_test, y_train, y_test = train_test_split(X, y, test_size=0.3, random_state=42)\n",
        "\n",
        "rf_clf = RandomForestClassifier(n_estimators=100, random_state=42)\n",
        "rf_clf.fit(X_train, y_train)\n",
        "\n",
        "y_proba = rf_clf.predict_proba(X_test)[:, 1]\n",
        "auc_score = roc_auc_score(y_test, y_proba)\n",
        "print(f\" Random Forest Classifier ROC-AUC Score: {auc_score:.4f}\")\n",
        "\n",
        "fpr, tpr, _ = roc_curve(y_test, y_proba)\n",
        "plt.plot(fpr, tpr, label=f'ROC Curve (AUC = {auc_score:.2f})')\n",
        "plt.plot([0, 1], [0, 1], 'k--')\n",
        "plt.xlabel('False Positive Rate')\n",
        "plt.ylabel('True Positive Rate')\n",
        "plt.title('Random Forest Classifier ROC Curve')\n",
        "plt.legend()\n",
        "plt.grid(True)\n",
        "plt.show()\n"
      ],
      "metadata": {
        "colab": {
          "base_uri": "https://localhost:8080/",
          "height": 490
        },
        "id": "-IMsIaxYM4x1",
        "outputId": "32b38713-d337-41ac-ce3e-70b98aba4054"
      },
      "execution_count": 25,
      "outputs": [
        {
          "output_type": "stream",
          "name": "stdout",
          "text": [
            " Random Forest Classifier ROC-AUC Score: 0.9799\n"
          ]
        },
        {
          "output_type": "display_data",
          "data": {
            "text/plain": [
              "<Figure size 640x480 with 1 Axes>"
            ],
            "image/png": "[encoded data removed]"
          },
          "metadata": {}
        }
      ]
    },
    {
      "cell_type": "code",
      "source": [
        "# Question 42: Train a Bagging Classifier and evaluate its performance using cross-validation.\n",
        "# Solution:\n",
        "from sklearn.ensemble import BaggingClassifier\n",
        "from sklearn.tree import DecisionTreeClassifier\n",
        "from sklearn.datasets import make_classification\n",
        "from sklearn.model_selection import cross_val_score\n",
        "import numpy as np\n",
        "\n",
        "X, y = make_classification(n_samples=1000, n_features=20, n_informative=10, n_redundant=5, random_state=42)\n",
        "\n",
        "bagging_clf = BaggingClassifier(\n",
        "    estimator=DecisionTreeClassifier(random_state=42),\n",
        "    n_estimators=100,\n",
        "    random_state=42,\n",
        "    n_jobs=-1\n",
        ")\n",
        "\n",
        "cv_scores = cross_val_score(bagging_clf, X, y, cv=5, scoring='accuracy')\n",
        "\n",
        "print(\"Bagging Classifier Cross-Validation Performance:\")\n",
        "print(f\"    CV scores: {cv_scores}\")\n",
        "print(f\"    Mean CV Accuracy: {np.mean(cv_scores):.4f}\")\n",
        "print(f\"    Std Dev of CV Accuracy: {np.std(cv_scores):.4f}\")\n",
        "\n"
      ],
      "metadata": {
        "colab": {
          "base_uri": "https://localhost:8080/"
        },
        "id": "8g-lep10M8jc",
        "outputId": "9015ce82-fa69-4c5d-82d5-28e13276ea43"
      },
      "execution_count": 26,
      "outputs": [
        {
          "output_type": "stream",
          "name": "stdout",
          "text": [
            "Bagging Classifier Cross-Validation Performance:\n",
            "    CV scores: [0.9   0.935 0.925 0.895 0.92 ]\n",
            "    Mean CV Accuracy: 0.9150\n",
            "    Std Dev of CV Accuracy: 0.0152\n"
          ]
        }
      ]
    },
    {
      "cell_type": "code",
      "source": [
        "# Question 43: Train a Random Forest Classifier and plot the Precision-Recall curve.\n",
        "# Solution:\n",
        "from sklearn.ensemble import RandomForestClassifier\n",
        "from sklearn.datasets import make_classification\n",
        "from sklearn.model_selection import train_test_split\n",
        "from sklearn.metrics import precision_recall_curve, average_precision_score\n",
        "import matplotlib.pyplot as plt\n",
        "\n",
        "X, y = make_classification(n_samples=1000, n_features=20, n_informative=10, n_redundant=5, random_state=42, weights=[0.9, 0.1])\n",
        "X_train, X_test, y_train, y_test = train_test_split(X, y, test_size=0.3, random_state=42)\n",
        "\n",
        "rf_clf = RandomForestClassifier(n_estimators=100, random_state=42)\n",
        "rf_clf.fit(X_train, y_train)\n",
        "\n",
        "y_proba = rf_clf.predict_proba(X_test)[:, 1]\n",
        "\n",
        "precision, recall, _ = precision_recall_curve(y_test, y_proba)\n",
        "average_precision = average_precision_score(y_test, y_proba)\n",
        "\n",
        "print(f\"Random Forest Classifier Average Precision Score: {average_precision:.4f}\")\n",
        "\n",
        "plt.plot(recall, precision, label=f'PR curve (AP = {average_precision:.2f})')\n",
        "plt.xlabel('Recall')\n",
        "plt.ylabel('Precision')\n",
        "plt.title('Random Forest Classifier Precision-Recall Curve')\n",
        "plt.legend()\n",
        "plt.grid(True)\n",
        "plt.show()\n",
        "\n"
      ],
      "metadata": {
        "colab": {
          "base_uri": "https://localhost:8080/",
          "height": 490
        },
        "id": "C2LfqV0wNAM8",
        "outputId": "f2a3ae73-335c-4f49-e97b-26c501644261"
      },
      "execution_count": 27,
      "outputs": [
        {
          "output_type": "stream",
          "name": "stdout",
          "text": [
            "Random Forest Classifier Average Precision Score: 0.6970\n"
          ]
        },
        {
          "output_type": "display_data",
          "data": {
            "text/plain": [
              "<Figure size 640x480 with 1 Axes>"
            ],
            "image/png": "[encoded data removed]"
          },
          "metadata": {}
        }
      ]
    },
    {
      "cell_type": "code",
      "source": [
        "\n",
        "# Question 44: Train a Stacking Classifier with Random Forest and Logistic Regression and compare accuracy.\n",
        "# Solution:\n",
        "from sklearn.ensemble import StackingClassifier, RandomForestClassifier\n",
        "from sklearn.linear_model import LogisticRegression\n",
        "from sklearn.datasets import make_classification\n",
        "from sklearn.model_selection import train_test_split\n",
        "from sklearn.metrics import accuracy_score\n",
        "\n",
        "X, y = make_classification(n_samples=1000, n_features=20, n_informative=10, n_redundant=5, random_state=42)\n",
        "X_train, X_test, y_train, y_test = train_test_split(X, y, test_size=0.3, random_state=42)\n",
        "\n",
        "estimators = [\n",
        "    ('rf', RandomForestClassifier(n_estimators=50, random_state=42)),\n",
        "    ('lr', LogisticRegression(solver='liblinear', random_state=42))\n",
        "]\n",
        "final_estimator = LogisticRegression(solver='liblinear', random_state=42)\n",
        "\n",
        "stacking_clf = StackingClassifier(\n",
        "    estimators=estimators,\n",
        "    final_estimator=final_estimator,\n",
        "    cv=3,\n",
        "    n_jobs=-1,\n",
        "    passthrough=True\n",
        ")\n",
        "stacking_clf.fit(X_train, y_train)\n",
        "\n",
        "accuracy_stacking = accuracy_score(y_test, stacking_clf.predict(X_test))\n",
        "print(f\"Stacking Classifier (RF + LR) Accuracy: {accuracy_stacking:.4f}\")\n",
        "\n",
        "rf_clf = RandomForestClassifier(n_estimators=100, random_state=42).fit(X_train, y_train)\n",
        "lr_clf = LogisticRegression(solver='liblinear', random_state=42).fit(X_train, y_train)\n",
        "\n",
        "print(f\"    Individual Random Forest Accuracy: {accuracy_score(y_test, rf_clf.predict(X_test)):.4f}\")\n",
        "print(f\"    Individual Logistic Regression Accuracy: {accuracy_score(y_test, lr_clf.predict(X_test)):.4f}\")\n"
      ],
      "metadata": {
        "colab": {
          "base_uri": "https://localhost:8080/"
        },
        "id": "s0A2AZlINEXV",
        "outputId": "fac9fc75-e606-42a9-ffdb-4cd71c8f4e0a"
      },
      "execution_count": 28,
      "outputs": [
        {
          "output_type": "stream",
          "name": "stdout",
          "text": [
            "Stacking Classifier (RF + LR) Accuracy: 0.9133\n",
            "    Individual Random Forest Accuracy: 0.9167\n",
            "    Individual Logistic Regression Accuracy: 0.8367\n"
          ]
        }
      ]
    },
    {
      "cell_type": "code",
      "source": [
        "\n",
        "# Question 45: Train a Bagging Regressor with different levels of bootstrap samples and compare performance.\n",
        "# Solution:\n",
        "from sklearn.ensemble import BaggingRegressor\n",
        "from sklearn.tree import DecisionTreeRegressor\n",
        "from sklearn.datasets import make_regression\n",
        "from sklearn.model_selection import train_test_split\n",
        "from sklearn.metrics import mean_squared_error\n",
        "\n",
        "X, y = make_regression(n_samples=1000, n_features=10, n_informative=5, random_state=42)\n",
        "X_train, X_test, y_train, y_test = train_test_split(X, y, test_size=0.3, random_state=42)\n",
        "\n",
        "bootstrap_sample_levels = [0.5, 0.7, 0.9, 1.0]\n",
        "\n",
        "print(\"Bagging Regressor MSE with different max_samples:\")\n",
        "for max_samples_ratio in bootstrap_sample_levels:\n",
        "    bagging_reg = BaggingRegressor(\n",
        "        estimator=DecisionTreeRegressor(random_state=42),\n",
        "        n_estimators=100,\n",
        "        max_samples=max_samples_ratio,\n",
        "        random_state=42\n",
        "    )\n",
        "    bagging_reg.fit(X_train, y_train)\n",
        "    mse = mean_squared_error(y_test, bagging_reg.predict(X_test))\n",
        "    print(f\"    max_samples={max_samples_ratio}: MSE ={mse:.4f}\")"
      ],
      "metadata": {
        "colab": {
          "base_uri": "https://localhost:8080/"
        },
        "id": "SWpQr5AGNI5m",
        "outputId": "2a5868b9-97c5-47ed-fe10-96a56a148315"
      },
      "execution_count": 29,
      "outputs": [
        {
          "output_type": "stream",
          "name": "stdout",
          "text": [
            "Bagging Regressor MSE with different max_samples:\n",
            "    max_samples=0.5: MSE = 237.3290\n",
            "    max_samples=0.7: MSE = 219.0417\n",
            "    max_samples=0.9: MSE = 212.4956\n",
            "    max_samples=1.0: MSE = 211.5435\n"
          ]
        }
      ]
    },
    {
      "cell_type": "code",
      "source": [],
      "metadata": {
        "id": "y3-z5G_ZNMuG"
      },
      "execution_count": null,
      "outputs": []
    }
  ]
}